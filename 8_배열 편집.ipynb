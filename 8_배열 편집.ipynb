{
  "nbformat": 4,
  "nbformat_minor": 0,
  "metadata": {
    "colab": {
      "provenance": []
    },
    "kernelspec": {
      "name": "python3",
      "display_name": "Python 3"
    },
    "language_info": {
      "name": "python"
    }
  },
  "cells": [
    {
      "cell_type": "code",
      "source": [
        "# 배열 array의 i번째 숫자부터 j번째 숫자까지 자르고 정렬했을 때, k번째에 있는 수를 구하라.\n",
        "array = [1,5,2,6,3,7,4]\n",
        "commands = [[2,5,3],[4,4,1],[1,7,3]]\n",
        "# 첫번째 포문에서 commands의 첫번째 차원의 길이를 돌린다.\n",
        "# 0, 1, 2에 접근하여 각각의 command 명령어 0번 1번 2번 명령어를 꺼낸다.\n",
        "# length에서 0, 1, 2에서 어떻게 꺼낼것인가."
      ],
      "metadata": {
        "id": "EAw4dKWBuXV6"
      },
      "execution_count": 4,
      "outputs": []
    },
    {
      "cell_type": "code",
      "source": [
        "answer=[]\n",
        "\n",
        "for command_number_1 in range(len(commands)):\n",
        "    temp_value = []\n",
        "    for command_number_2 in commands[command_number_1]:\n",
        "        temp_value.append(command_number_2)\n",
        "    answer.append(sorted(array[temp_value[0]-1:temp_value[1]])[temp_value[2]-1])"
      ],
      "metadata": {
        "id": "94UIo96SuXTK",
        "colab": {
          "base_uri": "https://localhost:8080/"
        },
        "outputId": "03e6be69-0e59-47ee-84ba-8a3891b7e0d1"
      },
      "execution_count": 55,
      "outputs": [
        {
          "output_type": "stream",
          "name": "stdout",
          "text": [
            "[2, 5, 3]\n",
            "[4, 4, 1]\n",
            "[1, 7, 3]\n"
          ]
        },
        {
          "output_type": "execute_result",
          "data": {
            "text/plain": [
              "[5, 6, 3]"
            ]
          },
          "metadata": {},
          "execution_count": 55
        }
      ]
    },
    {
      "cell_type": "code",
      "source": [
        "b = sorted(array[2-1:5])\n",
        "b"
      ],
      "metadata": {
        "id": "-TnzhpWMuXOD",
        "colab": {
          "base_uri": "https://localhost:8080/"
        },
        "outputId": "094e22a1-b707-4a0e-b658-b1f2535468e1"
      },
      "execution_count": 22,
      "outputs": [
        {
          "output_type": "execute_result",
          "data": {
            "text/plain": [
              "[2, 3, 5, 6]"
            ]
          },
          "metadata": {},
          "execution_count": 22
        }
      ]
    },
    {
      "cell_type": "code",
      "source": [
        "range(len(commands[0])-1)"
      ],
      "metadata": {
        "id": "AmMna6lYuXGT",
        "colab": {
          "base_uri": "https://localhost:8080/"
        },
        "outputId": "b07dc617-8d85-4249-bddd-870594f0b27b"
      },
      "execution_count": 41,
      "outputs": [
        {
          "output_type": "execute_result",
          "data": {
            "text/plain": [
              "range(0, 2)"
            ]
          },
          "metadata": {},
          "execution_count": 41
        }
      ]
    },
    {
      "cell_type": "code",
      "source": [
        "def solution(array, commands):\n",
        "    return list(map(lambda x:sorted(array[x[0]-1:x[1]])[x[2]-1], commands))\n",
        "\n",
        "# lambda 매개변수 : 표현식\n",
        "# map(함수, 리스트)\n",
        "# 리스트를 하나씩 꺼내서 함수를 적용시킨 다음 결과를 리스트로 담는다.\n",
        "# lambda 함수로 array의 수정식을 짜고\n",
        "# map을 사용해서 2차원 리스트를 하나씩 꺼내서 적용."
      ],
      "metadata": {
        "id": "MwGLjCq52SBL"
      },
      "execution_count": 61,
      "outputs": []
    },
    {
      "cell_type": "code",
      "source": [
        "tmp = solution(array, commands)\n",
        "tmp"
      ],
      "metadata": {
        "colab": {
          "base_uri": "https://localhost:8080/"
        },
        "id": "1e0hLDOJ2R-s",
        "outputId": "590644b7-c6f9-44b5-cef1-b48fab2aa63c"
      },
      "execution_count": 62,
      "outputs": [
        {
          "output_type": "execute_result",
          "data": {
            "text/plain": [
              "[5, 6, 3]"
            ]
          },
          "metadata": {},
          "execution_count": 62
        }
      ]
    },
    {
      "cell_type": "code",
      "source": [
        "tmp = list(map(lambda x: x[1], commands))\n",
        "tmp"
      ],
      "metadata": {
        "colab": {
          "base_uri": "https://localhost:8080/"
        },
        "id": "wTdwixpf2R5r",
        "outputId": "87b18220-4ada-4bcc-ee82-9d8ee6664b74"
      },
      "execution_count": 68,
      "outputs": [
        {
          "output_type": "execute_result",
          "data": {
            "text/plain": [
              "[5, 4, 7]"
            ]
          },
          "metadata": {},
          "execution_count": 68
        }
      ]
    },
    {
      "cell_type": "code",
      "source": [],
      "metadata": {
        "id": "JM2huDFO2R3T"
      },
      "execution_count": null,
      "outputs": []
    },
    {
      "cell_type": "code",
      "source": [],
      "metadata": {
        "id": "QBiyct7r2R0b"
      },
      "execution_count": null,
      "outputs": []
    },
    {
      "cell_type": "code",
      "source": [],
      "metadata": {
        "id": "AA5FBGnX2Rxz"
      },
      "execution_count": null,
      "outputs": []
    },
    {
      "cell_type": "code",
      "source": [],
      "metadata": {
        "id": "D2_KHj2b2RvN"
      },
      "execution_count": null,
      "outputs": []
    },
    {
      "cell_type": "code",
      "source": [],
      "metadata": {
        "id": "I3nxQr3n2Rsr"
      },
      "execution_count": null,
      "outputs": []
    },
    {
      "cell_type": "code",
      "source": [],
      "metadata": {
        "id": "xzH_mZSI2RqD"
      },
      "execution_count": null,
      "outputs": []
    }
  ]
}