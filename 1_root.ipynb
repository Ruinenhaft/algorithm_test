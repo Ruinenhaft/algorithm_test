{
  "nbformat": 4,
  "nbformat_minor": 0,
  "metadata": {
    "colab": {
      "provenance": []
    },
    "kernelspec": {
      "name": "python3",
      "display_name": "Python 3"
    },
    "language_info": {
      "name": "python"
    }
  },
  "cells": [
    {
      "cell_type": "code",
      "execution_count": 14,
      "metadata": {
        "id": "almkC6DpdY6C"
      },
      "outputs": [],
      "source": [
        "# 임의의 양의 정수 n에 대해, n이 어떤 양의 정수 x의 제곱인지 아닌지 판단\n",
        "# n이 양의 정수 x의 제곱이라면 x+1의 제곱을 리턴\n",
        "# n이 양의 정수 -1을 리턴하는 함수를 완성하세요.\n",
        "\n",
        "def solution(n):\n",
        "    if(n ** (1/2) % 1 == 0):\n",
        "        return (int(n**(1/2))+1)**2\n",
        "    else:\n",
        "        return -1"
      ]
    },
    {
      "cell_type": "code",
      "source": [
        "solution(121)"
      ],
      "metadata": {
        "colab": {
          "base_uri": "https://localhost:8080/"
        },
        "id": "0UTXrC9FhBan",
        "outputId": "5506ab10-8197-4240-c8f9-ae08ec6d5c25"
      },
      "execution_count": 15,
      "outputs": [
        {
          "output_type": "execute_result",
          "data": {
            "text/plain": [
              "144"
            ]
          },
          "metadata": {},
          "execution_count": 15
        }
      ]
    },
    {
      "cell_type": "code",
      "source": [
        "def nextSqure(n):\n",
        "    sqrt = n ** (1/2)\n",
        "\n",
        "    if sqrt % 1 == 0:\n",
        "        return (sqrt + 1) ** 2\n",
        "    return 'no'"
      ],
      "metadata": {
        "id": "T3-Ye_J7eUyr"
      },
      "execution_count": 16,
      "outputs": []
    },
    {
      "cell_type": "code",
      "source": [
        "nextSqure(121)"
      ],
      "metadata": {
        "colab": {
          "base_uri": "https://localhost:8080/"
        },
        "id": "KkgZNZy4eY02",
        "outputId": "5522672d-bc76-4d07-f595-705535327a46"
      },
      "execution_count": 17,
      "outputs": [
        {
          "output_type": "execute_result",
          "data": {
            "text/plain": [
              "144.0"
            ]
          },
          "metadata": {},
          "execution_count": 17
        }
      ]
    },
    {
      "cell_type": "code",
      "source": [],
      "metadata": {
        "id": "xaTmQFXDhKHG"
      },
      "execution_count": null,
      "outputs": []
    }
  ]
}