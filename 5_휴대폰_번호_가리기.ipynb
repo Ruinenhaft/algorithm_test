{
  "nbformat": 4,
  "nbformat_minor": 0,
  "metadata": {
    "colab": {
      "provenance": []
    },
    "kernelspec": {
      "name": "python3",
      "display_name": "Python 3"
    },
    "language_info": {
      "name": "python"
    }
  },
  "cells": [
    {
      "cell_type": "code",
      "source": [
        "# 전화번호가 문자열로 주어졌을 때, 전화번호의 뒷 4자리를 제외한\n",
        "# 나머지 숫자를 전부 *로 치환후 리턴\n",
        "# 1) 리스트\n",
        "# 2) for문으로 뒷 4자리 제외한 나머지 치환.\n",
        "# 1-1) C# right함수 있는지.\n",
        "phone_number = '01033334444'"
      ],
      "metadata": {
        "id": "m9Q7ehL2uXo6"
      },
      "execution_count": 3,
      "outputs": []
    },
    {
      "cell_type": "code",
      "source": [
        "phone_number"
      ],
      "metadata": {
        "colab": {
          "base_uri": "https://localhost:8080/"
        },
        "id": "iqN08qm8uXmi",
        "outputId": "c1695797-3aba-4f25-a168-3bf506e88eeb"
      },
      "execution_count": 4,
      "outputs": [
        {
          "output_type": "execute_result",
          "data": {
            "text/plain": [
              "['0', '1', '0', '3', '3', '3', '3', '4', '4', '4', '4']"
            ]
          },
          "metadata": {},
          "execution_count": 4
        }
      ]
    },
    {
      "cell_type": "code",
      "source": [
        "for i in range(len(phone_number)-4):\n",
        "    phone_number[i]='*'"
      ],
      "metadata": {
        "id": "U_3owmsEuXkC"
      },
      "execution_count": 5,
      "outputs": []
    },
    {
      "cell_type": "code",
      "source": [
        "phone_number"
      ],
      "metadata": {
        "colab": {
          "base_uri": "https://localhost:8080/"
        },
        "id": "9RKUm64wuXhL",
        "outputId": "7dd6993f-2622-4ecb-930c-e80766709753"
      },
      "execution_count": 6,
      "outputs": [
        {
          "output_type": "execute_result",
          "data": {
            "text/plain": [
              "['*', '*', '*', '*', '*', '*', '*', '4', '4', '4', '4']"
            ]
          },
          "metadata": {},
          "execution_count": 6
        }
      ]
    },
    {
      "cell_type": "code",
      "source": [
        "answer = ''.join(s for s in phone_number)"
      ],
      "metadata": {
        "id": "8hI_v3e4wXx7"
      },
      "execution_count": 11,
      "outputs": []
    },
    {
      "cell_type": "code",
      "source": [
        "answer"
      ],
      "metadata": {
        "colab": {
          "base_uri": "https://localhost:8080/",
          "height": 35
        },
        "id": "NUrklintxIAa",
        "outputId": "6ff439cb-cc33-4a98-d15a-a77ce4e51439"
      },
      "execution_count": 12,
      "outputs": [
        {
          "output_type": "execute_result",
          "data": {
            "text/plain": [
              "'*******4444'"
            ],
            "application/vnd.google.colaboratory.intrinsic+json": {
              "type": "string"
            }
          },
          "metadata": {},
          "execution_count": 12
        }
      ]
    },
    {
      "cell_type": "code",
      "source": [
        "def solution(phone_number):\n",
        "    phone_number = list(phone_number)\n",
        "    for i in range(len(phone_number)-4):\n",
        "        phone_number[i]='*'\n",
        "    answer = ''.join(s for s in phone_number)\n",
        "    return answer"
      ],
      "metadata": {
        "id": "2Kicn0F1uXeK"
      },
      "execution_count": 13,
      "outputs": []
    },
    {
      "cell_type": "code",
      "source": [
        "solution('01033334444')"
      ],
      "metadata": {
        "colab": {
          "base_uri": "https://localhost:8080/",
          "height": 35
        },
        "id": "ITmLZ4SCuXbr",
        "outputId": "022cb525-f7d8-4170-f7c4-4bf63a6b9adf"
      },
      "execution_count": 14,
      "outputs": [
        {
          "output_type": "execute_result",
          "data": {
            "text/plain": [
              "'*******4444'"
            ],
            "application/vnd.google.colaboratory.intrinsic+json": {
              "type": "string"
            }
          },
          "metadata": {},
          "execution_count": 14
        }
      ]
    },
    {
      "cell_type": "code",
      "source": [],
      "metadata": {
        "id": "dIZsDwgiuXYz"
      },
      "execution_count": 14,
      "outputs": []
    },
    {
      "cell_type": "code",
      "source": [],
      "metadata": {
        "id": "EAw4dKWBuXV6"
      },
      "execution_count": null,
      "outputs": []
    },
    {
      "cell_type": "code",
      "source": [],
      "metadata": {
        "id": "94UIo96SuXTK"
      },
      "execution_count": null,
      "outputs": []
    },
    {
      "cell_type": "code",
      "source": [],
      "metadata": {
        "id": "ER6IXpSEuXQr"
      },
      "execution_count": null,
      "outputs": []
    },
    {
      "cell_type": "code",
      "source": [],
      "metadata": {
        "id": "-TnzhpWMuXOD"
      },
      "execution_count": null,
      "outputs": []
    },
    {
      "cell_type": "code",
      "source": [],
      "metadata": {
        "id": "eSqhOazQuXLk"
      },
      "execution_count": null,
      "outputs": []
    },
    {
      "cell_type": "code",
      "source": [],
      "metadata": {
        "id": "LTbZhlu5uXI7"
      },
      "execution_count": null,
      "outputs": []
    },
    {
      "cell_type": "code",
      "source": [],
      "metadata": {
        "id": "AmMna6lYuXGT"
      },
      "execution_count": null,
      "outputs": []
    }
  ]
}