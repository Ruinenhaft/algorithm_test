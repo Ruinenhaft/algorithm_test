{
  "nbformat": 4,
  "nbformat_minor": 0,
  "metadata": {
    "colab": {
      "provenance": []
    },
    "kernelspec": {
      "name": "python3",
      "display_name": "Python 3"
    },
    "language_info": {
      "name": "python"
    }
  },
  "cells": [
    {
      "cell_type": "code",
      "execution_count": 46,
      "metadata": {
        "id": "sPwI54y00pyv"
      },
      "outputs": [],
      "source": [
        "# n은 각 자릿수를 큰것부터 작은 순으로 정렬한 새로운 정수를 리턴.\n",
        "def solution(n):\n",
        "    answer = 0\n",
        "    tmp_list = []\n",
        "    for i in range(len(str(n))):# int -> str 현변환하여 문자열을 길이만큼 반복\n",
        "        tmp_list.append(str(n%10))# 10으로 나눠 끝자리수부터 리스트화, 정렬을 위해 문자열로 형변환\n",
        "        print(tmp_list)# 확인을 위해 출력\n",
        "        n = n//10# 10의 자리씩 잘라내어 추출\n",
        "    tmp_list.sort(reverse=True) # 내림차순 정렬\n",
        "    result_list = tmp_list.copy() # 깊은 복사로 값 넘기고\n",
        "    #answer = ''.join(s for s intmp_list.sort(reverse=True) # TypeError 출력. 확인필요\n",
        "    answer = ''.join(s for s in result_list) # 순차적으로 리스트에서 스트링문으로 출력\n",
        "    return int(answer)# 다시 정수형변환 리턴"
      ]
    },
    {
      "cell_type": "code",
      "source": [
        "a = 142515\n",
        "b = str(a)\n",
        "print(type(b))"
      ],
      "metadata": {
        "colab": {
          "base_uri": "https://localhost:8080/"
        },
        "id": "nvY2UUfu1NUI",
        "outputId": "f4bde216-1f61-4d98-f491-2af5e3b32cad"
      },
      "execution_count": 47,
      "outputs": [
        {
          "output_type": "stream",
          "name": "stdout",
          "text": [
            "<class 'str'>\n"
          ]
        }
      ]
    },
    {
      "cell_type": "code",
      "source": [
        "solution(142515)"
      ],
      "metadata": {
        "colab": {
          "base_uri": "https://localhost:8080/"
        },
        "id": "_xq_x0Ev3tb3",
        "outputId": "e5d20eda-c056-41eb-b74a-fa1ff9b405a1"
      },
      "execution_count": 48,
      "outputs": [
        {
          "output_type": "stream",
          "name": "stdout",
          "text": [
            "['5']\n",
            "['5', '1']\n",
            "['5', '1', '5']\n",
            "['5', '1', '5', '2']\n",
            "['5', '1', '5', '2', '4']\n",
            "['5', '1', '5', '2', '4', '1']\n"
          ]
        },
        {
          "output_type": "execute_result",
          "data": {
            "text/plain": [
              "554211"
            ]
          },
          "metadata": {},
          "execution_count": 48
        }
      ]
    },
    {
      "cell_type": "code",
      "source": [
        "tmp_a = ['5','1','5','1','2','5','1','2','5']"
      ],
      "metadata": {
        "id": "Emq3NHZD3s_f"
      },
      "execution_count": 33,
      "outputs": []
    },
    {
      "cell_type": "code",
      "source": [
        "tmp_b = []\n",
        "tmp_a.sort(reverse=True)\n",
        "tmp_b = tmp_a.copy()\n",
        "tmp_b"
      ],
      "metadata": {
        "colab": {
          "base_uri": "https://localhost:8080/"
        },
        "id": "mfqSYsQu3s6X",
        "outputId": "c73a00a5-4ea4-4bdf-c013-0c05b555f7eb"
      },
      "execution_count": 34,
      "outputs": [
        {
          "output_type": "execute_result",
          "data": {
            "text/plain": [
              "['5', '5', '5', '5', '2', '2', '1', '1', '1']"
            ]
          },
          "metadata": {},
          "execution_count": 34
        }
      ]
    },
    {
      "cell_type": "code",
      "source": [
        "answer = ''.join(s for s in tmp_b)\n",
        "answer"
      ],
      "metadata": {
        "colab": {
          "base_uri": "https://localhost:8080/",
          "height": 35
        },
        "id": "G2wiPzBW60Em",
        "outputId": "70b5a455-7077-49f0-c586-98cfd29d29ad"
      },
      "execution_count": 36,
      "outputs": [
        {
          "output_type": "execute_result",
          "data": {
            "text/plain": [
              "'555522111'"
            ],
            "application/vnd.google.colaboratory.intrinsic+json": {
              "type": "string"
            }
          },
          "metadata": {},
          "execution_count": 36
        }
      ]
    },
    {
      "cell_type": "code",
      "source": [
        "c = 152514"
      ],
      "metadata": {
        "id": "Le2JV46cBtTS"
      },
      "execution_count": 49,
      "outputs": []
    },
    {
      "cell_type": "code",
      "source": [
        "c = ''.join(reversed(sorted(b)))"
      ],
      "metadata": {
        "id": "TnBRgkvm1UXk"
      },
      "execution_count": 50,
      "outputs": []
    },
    {
      "cell_type": "code",
      "source": [
        "c"
      ],
      "metadata": {
        "colab": {
          "base_uri": "https://localhost:8080/",
          "height": 35
        },
        "id": "gRkAiJ_c2Ycj",
        "outputId": "e52948c8-400d-4523-8ed4-127564265c58"
      },
      "execution_count": 51,
      "outputs": [
        {
          "output_type": "execute_result",
          "data": {
            "text/plain": [
              "'554211'"
            ],
            "application/vnd.google.colaboratory.intrinsic+json": {
              "type": "string"
            }
          },
          "metadata": {},
          "execution_count": 51
        }
      ]
    },
    {
      "cell_type": "code",
      "source": [
        "def solution(n):\n",
        "    return int(''.join(reversed(sorted(n))))"
      ],
      "metadata": {
        "id": "M0-afGgr2qqk"
      },
      "execution_count": 52,
      "outputs": []
    },
    {
      "cell_type": "code",
      "source": [
        "solution(c)"
      ],
      "metadata": {
        "colab": {
          "base_uri": "https://localhost:8080/"
        },
        "id": "gYttQFXzBnNz",
        "outputId": "ba6e6c75-714e-47d1-dbc4-bf4f051ae10d"
      },
      "execution_count": 53,
      "outputs": [
        {
          "output_type": "execute_result",
          "data": {
            "text/plain": [
              "554211"
            ]
          },
          "metadata": {},
          "execution_count": 53
        }
      ]
    },
    {
      "cell_type": "code",
      "source": [
        "def solution(n):\n",
        "    ls = list(str(n))\n",
        "    ls.sort(reverse = True)\n",
        "    return int(\"\".join(ls))"
      ],
      "metadata": {
        "id": "6cRreoWjB0ij"
      },
      "execution_count": null,
      "outputs": []
    }
  ]
}