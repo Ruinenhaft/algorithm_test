{
  "nbformat": 4,
  "nbformat_minor": 0,
  "metadata": {
    "colab": {
      "provenance": []
    },
    "kernelspec": {
      "name": "python3",
      "display_name": "Python 3"
    },
    "language_info": {
      "name": "python"
    }
  },
  "cells": [
    {
      "cell_type": "code",
      "execution_count": null,
      "metadata": {
        "id": "S_8z9_peenVV"
      },
      "outputs": [],
      "source": [
        "# 자연수 n을 뒤집어 각 자리 숫자를 원소로 가지는 배열 형태로 리턴해주세요.\n",
        "# ex) n=12345 -> [5,4,3,2,1]\n",
        "# 1) 문자열로 캐스팅\n",
        "# 2) 키 : 벨류 딕셔너리 형태로 변환\n",
        "# 3) 키를 reversed형태로 전환\n",
        "# 4) 키를 기준으로 리스트 추출\n",
        "\n",
        "def solution(n):\n",
        "    answer = []\n",
        "    return answer"
      ]
    },
    {
      "cell_type": "code",
      "source": [
        "n = 12345\n",
        "str_cast_number = str(n)# 자리수 단위로 뽑아내기 쉽게 형변환"
      ],
      "metadata": {
        "id": "Xn1Gum-Ie-9W"
      },
      "execution_count": 1,
      "outputs": []
    },
    {
      "cell_type": "code",
      "source": [
        "str_cast_number"
      ],
      "metadata": {
        "colab": {
          "base_uri": "https://localhost:8080/",
          "height": 35
        },
        "id": "BuP1q2dxfjt1",
        "outputId": "c6bc7b30-fd46-45e7-f1fb-76c4163b2fac"
      },
      "execution_count": 2,
      "outputs": [
        {
          "output_type": "execute_result",
          "data": {
            "text/plain": [
              "'12345'"
            ],
            "application/vnd.google.colaboratory.intrinsic+json": {
              "type": "string"
            }
          },
          "metadata": {},
          "execution_count": 2
        }
      ]
    },
    {
      "cell_type": "code",
      "source": [
        "dic_number = {i:string for i, string in enumerate(str_cast_number)}# enumerate() : 파라미터를 튜플로 만들어준다.\n",
        "print(dic_number)"
      ],
      "metadata": {
        "colab": {
          "base_uri": "https://localhost:8080/"
        },
        "id": "kHh9bjmGfk1P",
        "outputId": "b97bb0aa-9556-4e98-af83-45e487b9a2e3"
      },
      "execution_count": 4,
      "outputs": [
        {
          "output_type": "stream",
          "name": "stdout",
          "text": [
            "{0: '1', 1: '2', 2: '3', 3: '4', 4: '5'}\n"
          ]
        }
      ]
    },
    {
      "cell_type": "code",
      "source": [
        "dic_number_reverse = dict(sorted(dic_number.items(), reverse=True))# 해당부분 keys와 items햇갈려서 한참을 고민했다.\n",
        "dic_number_reverse"
      ],
      "metadata": {
        "colab": {
          "base_uri": "https://localhost:8080/"
        },
        "id": "021SR8IogWEW",
        "outputId": "55ef4671-b160-4f7c-c53c-bf43624cd49b"
      },
      "execution_count": 17,
      "outputs": [
        {
          "output_type": "execute_result",
          "data": {
            "text/plain": [
              "{4: '5', 3: '4', 2: '3', 1: '2', 0: '1'}"
            ]
          },
          "metadata": {},
          "execution_count": 17
        }
      ]
    },
    {
      "cell_type": "code",
      "source": [
        "result = dic_number_reverse.values() # values 값을 리스트화"
      ],
      "metadata": {
        "id": "tJp_rX9yhNFf"
      },
      "execution_count": 24,
      "outputs": []
    },
    {
      "cell_type": "code",
      "source": [
        "result = list(map(int, result)) # 문자열 값을 int값으로 형변환\n",
        "result"
      ],
      "metadata": {
        "colab": {
          "base_uri": "https://localhost:8080/"
        },
        "id": "bdtUNKAliq6q",
        "outputId": "a9bdb471-7398-444f-f973-b92506ad9010"
      },
      "execution_count": 25,
      "outputs": [
        {
          "output_type": "execute_result",
          "data": {
            "text/plain": [
              "[5, 4, 3, 2, 1]"
            ]
          },
          "metadata": {},
          "execution_count": 25
        }
      ]
    },
    {
      "cell_type": "code",
      "source": [
        "def solution(n):\n",
        "    str_cast_number = str(n)# 자리수 단위로 뽑아내기 쉽게 형변환\n",
        "    dic_number = {i:string for i, string in enumerate(str_cast_number)}# enumerate() : 파라미터를 튜플로 만들어준다.\n",
        "    dic_number_reverse = dict(sorted(dic_number.items(), reverse=True))# 해당부분 keys와 items햇갈려서 한참을 고민했다.\n",
        "    result = dic_number_reverse.values() # values 값을 리스트화\n",
        "    answer = list(map(int, result)) # 문자열 값을 int값으로 형변환\n",
        "    return answer #values 값을 리스트화 문자열 값을 int값으로 형변환"
      ],
      "metadata": {
        "id": "DQinrSLojYO_"
      },
      "execution_count": 30,
      "outputs": []
    },
    {
      "cell_type": "code",
      "source": [
        "solution(12345)"
      ],
      "metadata": {
        "colab": {
          "base_uri": "https://localhost:8080/"
        },
        "id": "L5A8dmXqkaGt",
        "outputId": "4fb24680-b0b1-457b-fab6-ae3eeedb7917"
      },
      "execution_count": 31,
      "outputs": [
        {
          "output_type": "execute_result",
          "data": {
            "text/plain": [
              "[5, 4, 3, 2, 1]"
            ]
          },
          "metadata": {},
          "execution_count": 31
        }
      ]
    },
    {
      "cell_type": "code",
      "source": [
        "def solution(n):\n",
        "    str_cast_number = str(n)\n",
        "    dic_number = {i:string for i, string in enumerate(str_cast_number)}\n",
        "    dic_number_reverse = dict(sorted(dic_number.items(), reverse=True))\n",
        "    result = dic_number_reverse.values()\n",
        "    answer = list(map(int, result)) \n",
        "    return answer"
      ],
      "metadata": {
        "id": "myTIHK79kcD3"
      },
      "execution_count": 32,
      "outputs": []
    },
    {
      "cell_type": "code",
      "source": [
        "solution(12345)"
      ],
      "metadata": {
        "colab": {
          "base_uri": "https://localhost:8080/"
        },
        "id": "etJMF4iKlJus",
        "outputId": "8f86cca2-edf7-4bb6-ea7f-6ef4c8843fc0"
      },
      "execution_count": 33,
      "outputs": [
        {
          "output_type": "execute_result",
          "data": {
            "text/plain": [
              "[5, 4, 3, 2, 1]"
            ]
          },
          "metadata": {},
          "execution_count": 33
        }
      ]
    },
    {
      "cell_type": "code",
      "source": [],
      "metadata": {
        "id": "-zAjB3qdlKYk"
      },
      "execution_count": null,
      "outputs": []
    }
  ]
}