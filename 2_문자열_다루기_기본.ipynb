{
  "nbformat": 4,
  "nbformat_minor": 0,
  "metadata": {
    "colab": {
      "provenance": []
    },
    "kernelspec": {
      "name": "python3",
      "display_name": "Python 3"
    },
    "language_info": {
      "name": "python"
    }
  },
  "cells": [
    {
      "cell_type": "code",
      "execution_count": 15,
      "metadata": {
        "id": "oFvffpjWpqPA"
      },
      "outputs": [],
      "source": [
        "# 문자열 s의 길이가 4 혹은 6이고, 숫자로만 구성돼있는지 확인해주는 함수 solution을 완성하세요.\n",
        "# ex) s = 'a234' => False, '1234' => True\n",
        "# 0 < len(s) < 9, s는 알파벳 대소문자 또는 0부터 9까지 숫자로 이루어져 있다.\n",
        "def solution(s):\n",
        "    if(len(s)==4 or len(s)==6): # 문자열의 길이가 4 혹은 6이고\n",
        "        for i in range(len(s)): \n",
        "            if(ord(s[i]) > 57): # 숫자로만 구성되어있는지 유니코드로 확인\n",
        "                return False    # 문자까지 가면 False\n",
        "    else:\n",
        "        return False # 문자열의 길이가 맞지 않으면 False\n",
        "\n",
        "    return True # 모든 조건 충족시 True\n"
      ]
    },
    {
      "cell_type": "code",
      "source": [
        "# 유니코드 문자 확인\n",
        "print(ord('a'))\n",
        "print(ord('z'))\n",
        "print(ord('A'))\n",
        "print(ord('Z'))\n",
        "print(ord('0'))\n",
        "print(ord('1'))\n",
        "print(ord('9'))"
      ],
      "metadata": {
        "colab": {
          "base_uri": "https://localhost:8080/"
        },
        "id": "smi5dSYfqoEs",
        "outputId": "d38a52c9-2587-4cf7-b2e6-53553f4bcd0d"
      },
      "execution_count": 12,
      "outputs": [
        {
          "output_type": "stream",
          "name": "stdout",
          "text": [
            "97\n",
            "122\n",
            "65\n",
            "90\n",
            "48\n",
            "49\n",
            "57\n"
          ]
        }
      ]
    },
    {
      "cell_type": "code",
      "source": [
        "# 유니코드 A-Za-z = 65 ~ 122\n",
        "# 유니코드 0 ~ 9  = 48 ~ 57"
      ],
      "metadata": {
        "id": "HIqGuzqEriu6"
      },
      "execution_count": null,
      "outputs": []
    },
    {
      "cell_type": "code",
      "source": [
        "def solution(s):\n",
        "    if(len(s)==4 or len(s)==6):\n",
        "        print(\"if1\") # 조건문 입장 확인코드\n",
        "        for i in range(len(s)):\n",
        "            if(ord(s[i]) > 57):\n",
        "                print('if_false') # 조건문 입장 확인코드\n",
        "                print(ord(s[i]))\n",
        "                return False\n",
        "                \n",
        "    else:\n",
        "        print(\"else1\") # 조건문 입장 확인코드\n",
        "        return False\n",
        "\n",
        "    return True\n"
      ],
      "metadata": {
        "id": "yQY4R7jvtM0A"
      },
      "execution_count": 45,
      "outputs": []
    },
    {
      "cell_type": "code",
      "source": [
        "solution(\"12346a\")"
      ],
      "metadata": {
        "colab": {
          "base_uri": "https://localhost:8080/"
        },
        "id": "Le2nDXGWxm8w",
        "outputId": "01d2b27e-e7a6-45ac-e425-a8fa24486889"
      },
      "execution_count": 47,
      "outputs": [
        {
          "output_type": "stream",
          "name": "stdout",
          "text": [
            "if1\n",
            "if_false\n",
            "97\n"
          ]
        },
        {
          "output_type": "execute_result",
          "data": {
            "text/plain": [
              "False"
            ]
          },
          "metadata": {},
          "execution_count": 47
        }
      ]
    },
    {
      "cell_type": "code",
      "source": [
        "solution(\"a234\")"
      ],
      "metadata": {
        "colab": {
          "base_uri": "https://localhost:8080/"
        },
        "id": "S7WJd586ta32",
        "outputId": "476321eb-ed42-49b0-dcbb-4eaf9c4b12c8"
      },
      "execution_count": 28,
      "outputs": [
        {
          "output_type": "stream",
          "name": "stdout",
          "text": [
            "if1\n"
          ]
        },
        {
          "output_type": "execute_result",
          "data": {
            "text/plain": [
              "False"
            ]
          },
          "metadata": {},
          "execution_count": 28
        }
      ]
    },
    {
      "cell_type": "code",
      "source": [],
      "metadata": {
        "id": "uP6TmVTntnsM"
      },
      "execution_count": null,
      "outputs": []
    }
  ]
}